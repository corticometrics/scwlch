{
 "cells": [
  {
   "cell_type": "code",
   "execution_count": null,
   "metadata": {},
   "outputs": [],
   "source": [
    "#hide\n",
    "from scwlch.core import *"
   ]
  },
  {
   "cell_type": "markdown",
   "metadata": {},
   "source": [
    "# sCWLch\n",
    "\n",
    "> Squelch bugs with this suite for creating CWL Checker workflows"
   ]
  },
  {
   "cell_type": "markdown",
   "metadata": {},
   "source": [
    "Code base to create [Checker workflows](https://docs.dockstore.org/en/develop/advanced-topics/checker-workflows.html) to unit test your CWL workflows.\n",
    "\n",
    "`cwltest` provides means to compare results to a reference for any CWL document, but it only uses the CWL output json for this. That means if results are functionally the same, but have minor differences (such as small numerical differences, or file metadata), `cwltest` will say they are different due to changes in the checksum.\n",
    "\n",
    "Checker workflows are a wrapper for your Workflow, where your results are fed into the checker, and the checker outputs a result (such as `true`/`false`) that is compatible with `cwltest`."
   ]
  },
  {
   "cell_type": "markdown",
   "metadata": {},
   "source": [
    "## Install"
   ]
  },
  {
   "cell_type": "markdown",
   "metadata": {},
   "source": [
    "For now, clone this repo and run:\n",
    "`pip install .`\n",
    "\n",
    "Coming to PyPI soon!"
   ]
  },
  {
   "cell_type": "markdown",
   "metadata": {},
   "source": [
    "## How to use"
   ]
  },
  {
   "cell_type": "markdown",
   "metadata": {},
   "source": [
    "WIP"
   ]
  },
  {
   "cell_type": "markdown",
   "metadata": {},
   "source": [
    "## Acknowledgements"
   ]
  },
  {
   "cell_type": "markdown",
   "metadata": {},
   "source": [
    "This work has been partially funded by the following NIH grants\n",
    "  - R42CA183150\n",
    "  - R42AG062026\n",
    "\n",
    "Thanks to the CWL comminity (see [here](https://gitter.im/common-workflow-language/common-workflow-language?at=5ea0d848f6a6e539796ddecd) for the discussion that led to this project)"
   ]
  },
  {
   "cell_type": "code",
   "execution_count": null,
   "metadata": {},
   "outputs": [
    {
     "name": "stdout",
     "output_type": "stream",
     "text": [
      "Converted 00_core.ipynb.\n",
      "Converted index.ipynb.\n"
     ]
    }
   ],
   "source": [
    "# hide\n",
    "from nbdev.export import notebook2script\n",
    "\n",
    "notebook2script()"
   ]
  },
  {
   "cell_type": "code",
   "execution_count": null,
   "metadata": {},
   "outputs": [],
   "source": []
  }
 ],
 "metadata": {
  "kernelspec": {
   "display_name": "Python 3",
   "language": "python",
   "name": "python3"
  }
 },
 "nbformat": 4,
 "nbformat_minor": 4
}
